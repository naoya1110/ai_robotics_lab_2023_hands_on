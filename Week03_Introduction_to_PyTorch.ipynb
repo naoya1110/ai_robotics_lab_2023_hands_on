{
  "nbformat": 4,
  "nbformat_minor": 0,
  "metadata": {
    "colab": {
      "provenance": [],
      "toc_visible": true,
      "authorship_tag": "ABX9TyO3XrAjvB8uR4sn0VXEcn/s",
      "include_colab_link": true
    },
    "kernelspec": {
      "name": "python3",
      "display_name": "Python 3"
    },
    "language_info": {
      "name": "python"
    }
  },
  "cells": [
    {
      "cell_type": "markdown",
      "metadata": {
        "id": "view-in-github",
        "colab_type": "text"
      },
      "source": [
        "<a href=\"https://colab.research.google.com/github/naoya1110/al_robotics_lab_2023_hands_on/blob/main/Week03_Introduction_to_PyTorch.ipynb\" target=\"_parent\"><img src=\"https://colab.research.google.com/assets/colab-badge.svg\" alt=\"Open In Colab\"/></a>"
      ]
    },
    {
      "cell_type": "markdown",
      "metadata": {
        "id": "lp3-fTEk3CXr"
      },
      "source": [
        "# NCKU-NITKC AI Robotics Lab - Week 03\n",
        "\n",
        "In this AI Robotics Lab course, we will be using PyTorch to implement deep neural networks. In this notebook, we will learn the basic functions of PyTorch, so let's familiarize ourselves with it.\n",
        "\n",
        "*If you are not familiar with basic Python programming, you may want to go through some other tutorials, such as the one found at:\n",
        "\n",
        "https://colab.research.google.com/github/cs231n/cs231n.github.io/blob/master/python-colab.ipynb"
      ]
    },
    {
      "cell_type": "markdown",
      "metadata": {
        "id": "TXeweKspo2c2"
      },
      "source": [
        "## Torch.Tensor\n",
        "First we need to import PyTorch."
      ]
    },
    {
      "cell_type": "code",
      "metadata": {
        "id": "2iNt9kVFhkVq"
      },
      "source": [
        "import torch"
      ],
      "execution_count": null,
      "outputs": []
    },
    {
      "cell_type": "markdown",
      "source": [
        "Let's check the version of PyTorch."
      ],
      "metadata": {
        "id": "PKLYJj1n7IgF"
      }
    },
    {
      "cell_type": "code",
      "source": [
        "torch.__version__"
      ],
      "metadata": {
        "colab": {
          "base_uri": "https://localhost:8080/",
          "height": 36
        },
        "id": "3UKq6LFX7N0N",
        "outputId": "012d6673-bea1-4d98-e320-d148393992d1"
      },
      "execution_count": null,
      "outputs": [
        {
          "output_type": "execute_result",
          "data": {
            "text/plain": [
              "'2.0.1+cu118'"
            ],
            "application/vnd.google.colaboratory.intrinsic+json": {
              "type": "string"
            }
          },
          "metadata": {},
          "execution_count": 2
        }
      ]
    },
    {
      "cell_type": "markdown",
      "metadata": {
        "id": "amh_RRDe5YCu"
      },
      "source": [
        "PyTorch handles multi-dimensional array data with the `torch.tensor` data type. To create a `torch.tensor` object, you can simply pass a Python `list` to the `torch.tensor()` function."
      ]
    },
    {
      "cell_type": "code",
      "metadata": {
        "id": "tCi4UpU6iaEQ",
        "colab": {
          "base_uri": "https://localhost:8080/"
        },
        "outputId": "2e1b6d4c-991b-4c2e-8171-a28b00e29811"
      },
      "source": [
        "a = [1, 2, 3]      # create list named \"a\"\n",
        "\n",
        "print(a)           # show \"a\"\n",
        "print(type(a))     # show data type of \"a\""
      ],
      "execution_count": null,
      "outputs": [
        {
          "output_type": "stream",
          "name": "stdout",
          "text": [
            "[1, 2, 3]\n",
            "<class 'list'>\n"
          ]
        }
      ]
    },
    {
      "cell_type": "code",
      "metadata": {
        "id": "dwRCeeZL6ZPt",
        "colab": {
          "base_uri": "https://localhost:8080/"
        },
        "outputId": "f30c4f0c-92a9-468b-f948-47963bf2c9c6"
      },
      "source": [
        "a = torch.tensor(a)     # convert list \"a\" to torch.tensor \"a\"\n",
        "\n",
        "print(a)\n",
        "print(type(a))"
      ],
      "execution_count": null,
      "outputs": [
        {
          "output_type": "stream",
          "name": "stdout",
          "text": [
            "tensor([1, 2, 3])\n",
            "<class 'torch.Tensor'>\n"
          ]
        }
      ]
    },
    {
      "cell_type": "markdown",
      "metadata": {
        "id": "FclCLLUg6iZq"
      },
      "source": [
        "Also, a `torch.tensor` data can be made from a `numpy.ndarray` data."
      ]
    },
    {
      "cell_type": "code",
      "metadata": {
        "id": "OY_t_qCkgLFR",
        "colab": {
          "base_uri": "https://localhost:8080/"
        },
        "outputId": "bee2c836-545e-499e-e94c-2df0968a2b7f"
      },
      "source": [
        "import numpy as np               # import Numpy package, \"np\" is abbreviation of numpy\n",
        "\n",
        "b = np.array([0.4, 0.5, 0.6])    # create a np.ndarray named \"b\"\n",
        "b = torch.tensor(b)              # convert np.ndarry \"b\" to torch.tensor \"b\"\n",
        "\n",
        "print(b)\n",
        "print(type(b))"
      ],
      "execution_count": null,
      "outputs": [
        {
          "output_type": "stream",
          "name": "stdout",
          "text": [
            "tensor([0.4000, 0.5000, 0.6000], dtype=torch.float64)\n",
            "<class 'torch.Tensor'>\n"
          ]
        }
      ]
    },
    {
      "cell_type": "markdown",
      "metadata": {
        "id": "IScSA6AF88v6"
      },
      "source": [
        "You can also convert a `torch.tensor` back to a `numpy.ndarray`."
      ]
    },
    {
      "cell_type": "code",
      "metadata": {
        "id": "OOrCjtoa88MJ"
      },
      "source": [
        "c = b.numpy()        # convert torch.tensor data \"b\" to np.ndarray data \"c\"\n",
        "\n",
        "print(c)\n",
        "print(type(c))"
      ],
      "execution_count": null,
      "outputs": []
    },
    {
      "cell_type": "markdown",
      "metadata": {
        "id": "GanF3Gg0CJ_J"
      },
      "source": [
        "To determine the shape of a `torch.tensor`, there are two different methods: `.shape` and `.size()`. They both return the same result."
      ]
    },
    {
      "cell_type": "code",
      "metadata": {
        "id": "WwgqCsOkCSbK",
        "colab": {
          "base_uri": "https://localhost:8080/"
        },
        "outputId": "219f98e2-3571-4b12-ac0c-5dc339ee88a3"
      },
      "source": [
        "a = torch.tensor([1, 2, 3])\n",
        "print(a.shape)"
      ],
      "execution_count": null,
      "outputs": [
        {
          "output_type": "stream",
          "name": "stdout",
          "text": [
            "torch.Size([3])\n"
          ]
        }
      ]
    },
    {
      "cell_type": "code",
      "source": [
        "print(a.size())"
      ],
      "metadata": {
        "id": "WyAy45inHUSN",
        "colab": {
          "base_uri": "https://localhost:8080/"
        },
        "outputId": "69aed28a-3b76-4d1f-d10f-a14600178c37"
      },
      "execution_count": null,
      "outputs": [
        {
          "output_type": "stream",
          "name": "stdout",
          "text": [
            "torch.Size([3])\n"
          ]
        }
      ]
    },
    {
      "cell_type": "markdown",
      "metadata": {
        "id": "2QWTZQTy76Av"
      },
      "source": [
        "## Simple Calculations\n",
        "\n",
        "Let's perform some basic arithmetic operations using a `torch.tensor` and a number."
      ]
    },
    {
      "cell_type": "code",
      "metadata": {
        "id": "BQMs27Ky6huP",
        "colab": {
          "base_uri": "https://localhost:8080/"
        },
        "outputId": "bcf374c4-542b-4d0a-f2c3-0257bc56dd69"
      },
      "source": [
        "a = torch.tensor([1, 2, 3])\n",
        "print(\"a =\", a)\n",
        "\n",
        "print(\"a+1=\", a+1)    # addition\n",
        "print(\"a-2=\", a-2)    # subtraction\n",
        "print(\"a*3=\", a*3)    # multiplication\n",
        "print(\"a/4=\", a/4)    # division"
      ],
      "execution_count": null,
      "outputs": [
        {
          "output_type": "stream",
          "name": "stdout",
          "text": [
            "a = tensor([1, 2, 3])\n",
            "a+1= tensor([2, 3, 4])\n",
            "a-2= tensor([-1,  0,  1])\n",
            "a*3= tensor([3, 6, 9])\n",
            "a/4= tensor([0.2500, 0.5000, 0.7500])\n"
          ]
        }
      ]
    },
    {
      "cell_type": "markdown",
      "metadata": {
        "id": "KR3Hze5ux40x"
      },
      "source": [
        "Let's perform operations with two `torch.tensor` objects."
      ]
    },
    {
      "cell_type": "code",
      "metadata": {
        "id": "t3sRUzEN8M5b",
        "colab": {
          "base_uri": "https://localhost:8080/"
        },
        "outputId": "ade72878-8838-4e5b-96c6-d2d9ccf18899"
      },
      "source": [
        "a = torch.tensor([1, 2, 3])\n",
        "b = torch.tensor([0.4, 0.5, 0.6])\n",
        "\n",
        "print(\"a =\", a)\n",
        "print(\"b =\", b)\n",
        "\n",
        "print(\"a+b=\", a+b)\n",
        "print(\"a-b=\", a-b)\n",
        "print(\"a*b=\", a*b)\n",
        "print(\"a/b=\", a/b)"
      ],
      "execution_count": null,
      "outputs": [
        {
          "output_type": "stream",
          "name": "stdout",
          "text": [
            "a = tensor([1, 2, 3])\n",
            "b = tensor([0.4000, 0.5000, 0.6000])\n",
            "a+b= tensor([1.4000, 2.5000, 3.6000])\n",
            "a-b= tensor([0.6000, 1.5000, 2.4000])\n",
            "a*b= tensor([0.4000, 1.0000, 1.8000])\n",
            "a/b= tensor([2.5000, 4.0000, 5.0000])\n"
          ]
        }
      ]
    },
    {
      "cell_type": "markdown",
      "metadata": {
        "id": "SdgTI4FS9nSA"
      },
      "source": [
        "## PyTorch and Numpy\n",
        "\n",
        "Since PyTorch is based on NumPy, they share many similarities. If you are already familiar with NumPy, you might feel comfortable with PyTorch as well. Let's explore some examples."
      ]
    },
    {
      "cell_type": "markdown",
      "metadata": {
        "id": "41so0Zm8_MLZ"
      },
      "source": [
        "**Zeros Array** - all zero array with given shape"
      ]
    },
    {
      "cell_type": "code",
      "metadata": {
        "id": "vyJZEQdDkSYp",
        "colab": {
          "base_uri": "https://localhost:8080/"
        },
        "outputId": "5154045e-9d0a-43a8-ad6d-aa29c9c6c7bd"
      },
      "source": [
        "np.zeros(3)    # 1D np.ndarray of 3 zeros"
      ],
      "execution_count": null,
      "outputs": [
        {
          "output_type": "execute_result",
          "data": {
            "text/plain": [
              "array([0., 0., 0.])"
            ]
          },
          "metadata": {},
          "execution_count": 9
        }
      ]
    },
    {
      "cell_type": "code",
      "metadata": {
        "id": "ewQFFBZvhsLO",
        "colab": {
          "base_uri": "https://localhost:8080/"
        },
        "outputId": "fb520c93-0db6-4016-cda1-5b0072686c3b"
      },
      "source": [
        "torch.zeros(3) # 1D torch.tensor of 3 zeros"
      ],
      "execution_count": null,
      "outputs": [
        {
          "output_type": "execute_result",
          "data": {
            "text/plain": [
              "tensor([0., 0., 0.])"
            ]
          },
          "metadata": {},
          "execution_count": 10
        }
      ]
    },
    {
      "cell_type": "code",
      "metadata": {
        "id": "c2TCbmXzHMwI",
        "colab": {
          "base_uri": "https://localhost:8080/"
        },
        "outputId": "5230a527-31e1-45c6-db9d-385d94a166fc"
      },
      "source": [
        "torch.zeros((2, 3)) # 2D torch.tensor of 2x3 zeros"
      ],
      "execution_count": null,
      "outputs": [
        {
          "output_type": "execute_result",
          "data": {
            "text/plain": [
              "tensor([[0., 0., 0.],\n",
              "        [0., 0., 0.]])"
            ]
          },
          "metadata": {},
          "execution_count": 11
        }
      ]
    },
    {
      "cell_type": "markdown",
      "metadata": {
        "id": "XViCDzHK_Phe"
      },
      "source": [
        "**Ones Array** - all one array with given shape"
      ]
    },
    {
      "cell_type": "code",
      "metadata": {
        "id": "g45dgf4Vk1-W",
        "colab": {
          "base_uri": "https://localhost:8080/"
        },
        "outputId": "45af7778-fcc5-4d12-ea9c-08bca8b90e63"
      },
      "source": [
        "np.ones(5)"
      ],
      "execution_count": null,
      "outputs": [
        {
          "output_type": "execute_result",
          "data": {
            "text/plain": [
              "array([1., 1., 1., 1., 1.])"
            ]
          },
          "metadata": {},
          "execution_count": 13
        }
      ]
    },
    {
      "cell_type": "code",
      "metadata": {
        "id": "wL64K2wb-J6s",
        "colab": {
          "base_uri": "https://localhost:8080/"
        },
        "outputId": "893b7636-711a-4630-d1af-4042a58827e0"
      },
      "source": [
        "torch.ones(5)"
      ],
      "execution_count": null,
      "outputs": [
        {
          "output_type": "execute_result",
          "data": {
            "text/plain": [
              "tensor([1., 1., 1., 1., 1.])"
            ]
          },
          "metadata": {},
          "execution_count": 14
        }
      ]
    },
    {
      "cell_type": "markdown",
      "metadata": {
        "id": "um9Kdk8V_qIy"
      },
      "source": [
        "**Random Number Array** - an array of random numbers between 0.0 and 1.0 with given shape"
      ]
    },
    {
      "cell_type": "code",
      "metadata": {
        "id": "XxuC3DwclKoE",
        "colab": {
          "base_uri": "https://localhost:8080/"
        },
        "outputId": "4e2c30ef-bb56-4b9c-9bfe-7fc9d68b63aa"
      },
      "source": [
        "np.random.rand(3)"
      ],
      "execution_count": null,
      "outputs": [
        {
          "output_type": "execute_result",
          "data": {
            "text/plain": [
              "array([0.82526503, 0.4425841 , 0.4569171 ])"
            ]
          },
          "metadata": {},
          "execution_count": 15
        }
      ]
    },
    {
      "cell_type": "code",
      "metadata": {
        "id": "Epe4Tk_6-PFn",
        "colab": {
          "base_uri": "https://localhost:8080/"
        },
        "outputId": "2892640b-6f2d-4605-a124-25dd4a0da322"
      },
      "source": [
        "torch.rand(3)"
      ],
      "execution_count": null,
      "outputs": [
        {
          "output_type": "execute_result",
          "data": {
            "text/plain": [
              "tensor([0.5600, 0.5085, 0.8530])"
            ]
          },
          "metadata": {},
          "execution_count": 16
        }
      ]
    },
    {
      "cell_type": "markdown",
      "metadata": {
        "id": "1xErEqhS_UK_"
      },
      "source": [
        "**Arange Array** - 1D array with evenly spaced values"
      ]
    },
    {
      "cell_type": "code",
      "metadata": {
        "id": "D8uf-3lgk6FK",
        "colab": {
          "base_uri": "https://localhost:8080/"
        },
        "outputId": "388cb112-16bd-4b28-9e2e-2fb604a266b1"
      },
      "source": [
        "np.arange(0, 5, 1)    # np.arange(start, stop, step) --- stop will not be included"
      ],
      "execution_count": null,
      "outputs": [
        {
          "output_type": "execute_result",
          "data": {
            "text/plain": [
              "array([0, 1, 2, 3, 4])"
            ]
          },
          "metadata": {},
          "execution_count": 17
        }
      ]
    },
    {
      "cell_type": "code",
      "metadata": {
        "id": "mJMTsPNn-o5_",
        "colab": {
          "base_uri": "https://localhost:8080/"
        },
        "outputId": "e61a8925-99d6-4dde-b177-89b588c94c2d"
      },
      "source": [
        "torch.arange(0, 5, 1)"
      ],
      "execution_count": null,
      "outputs": [
        {
          "output_type": "execute_result",
          "data": {
            "text/plain": [
              "tensor([0, 1, 2, 3, 4])"
            ]
          },
          "metadata": {},
          "execution_count": 18
        }
      ]
    },
    {
      "cell_type": "code",
      "metadata": {
        "id": "35Gv_cjGHopY"
      },
      "source": [
        "torch.arange(5)     # start and step parameters can be omitted"
      ],
      "execution_count": null,
      "outputs": []
    },
    {
      "cell_type": "markdown",
      "metadata": {
        "id": "1m-AEvuAABNN"
      },
      "source": [
        "**Slicing/Indexing** - extract some part of original array by specifying indexes"
      ]
    },
    {
      "cell_type": "code",
      "metadata": {
        "id": "dAR_SciliEd0",
        "colab": {
          "base_uri": "https://localhost:8080/"
        },
        "outputId": "8ec0ee5d-28b5-4568-d9c8-f3e12435aeef"
      },
      "source": [
        "a = np.arange(10)\n",
        "print(a)\n",
        "print(a[2:5])    # take data from index 2 to before index 5"
      ],
      "execution_count": null,
      "outputs": [
        {
          "output_type": "stream",
          "name": "stdout",
          "text": [
            "[0 1 2 3 4 5 6 7 8 9]\n",
            "[2 3 4]\n"
          ]
        }
      ]
    },
    {
      "cell_type": "code",
      "metadata": {
        "id": "RVPtoMeslvhq",
        "colab": {
          "base_uri": "https://localhost:8080/"
        },
        "outputId": "1fceae75-989f-4684-e25e-9daac219ad58"
      },
      "source": [
        "a = torch.arange(10)\n",
        "print(a)\n",
        "print(a[2:5])    # take data from index 2 to before index 5"
      ],
      "execution_count": null,
      "outputs": [
        {
          "output_type": "stream",
          "name": "stdout",
          "text": [
            "tensor([0, 1, 2, 3, 4, 5, 6, 7, 8, 9])\n",
            "tensor([2, 3, 4])\n"
          ]
        }
      ]
    },
    {
      "cell_type": "code",
      "metadata": {
        "id": "-k2H6sqvJNIo",
        "colab": {
          "base_uri": "https://localhost:8080/"
        },
        "outputId": "6e2d8493-174b-45c8-8320-6ab1e494e1a4"
      },
      "source": [
        "a = torch.arange(100).view(10,10)    # 10x10 torch.tensor\n",
        "print(a)\n",
        "print(a[1:3, 4:8])   # take subset of 2D data from 10x10 torch.tensor"
      ],
      "execution_count": null,
      "outputs": [
        {
          "output_type": "stream",
          "name": "stdout",
          "text": [
            "tensor([[ 0,  1,  2,  3,  4,  5,  6,  7,  8,  9],\n",
            "        [10, 11, 12, 13, 14, 15, 16, 17, 18, 19],\n",
            "        [20, 21, 22, 23, 24, 25, 26, 27, 28, 29],\n",
            "        [30, 31, 32, 33, 34, 35, 36, 37, 38, 39],\n",
            "        [40, 41, 42, 43, 44, 45, 46, 47, 48, 49],\n",
            "        [50, 51, 52, 53, 54, 55, 56, 57, 58, 59],\n",
            "        [60, 61, 62, 63, 64, 65, 66, 67, 68, 69],\n",
            "        [70, 71, 72, 73, 74, 75, 76, 77, 78, 79],\n",
            "        [80, 81, 82, 83, 84, 85, 86, 87, 88, 89],\n",
            "        [90, 91, 92, 93, 94, 95, 96, 97, 98, 99]])\n",
            "tensor([[14, 15, 16, 17],\n",
            "        [24, 25, 26, 27]])\n"
          ]
        }
      ]
    },
    {
      "cell_type": "markdown",
      "metadata": {
        "id": "tPblm8JmEE1B"
      },
      "source": [
        "**Reshaping**\n",
        "\n",
        "In order to reshape the `numpy.ndarray`, we can use `.reshape()`."
      ]
    },
    {
      "cell_type": "code",
      "metadata": {
        "id": "-UzSo7ajiJGN",
        "colab": {
          "base_uri": "https://localhost:8080/"
        },
        "outputId": "61fefabb-eaba-4240-a458-c59fa2d3c4df"
      },
      "source": [
        "a = np.arange(10) # 1D data\n",
        "a.reshape(2,5)    # reshape data into 2x5 np.ndarray"
      ],
      "execution_count": null,
      "outputs": [
        {
          "output_type": "execute_result",
          "data": {
            "text/plain": [
              "array([[0, 1, 2, 3, 4],\n",
              "       [5, 6, 7, 8, 9]])"
            ]
          },
          "metadata": {},
          "execution_count": 23
        }
      ]
    },
    {
      "cell_type": "markdown",
      "metadata": {
        "id": "q1TGVrNszb7d"
      },
      "source": [
        "In PyTorch we can use `.reshape()` or `.view()` for reshaping."
      ]
    },
    {
      "cell_type": "code",
      "source": [
        "a = torch.arange(10)\n",
        "a.reshape(2,5)  # reshape data into 2x5 torch.tensor"
      ],
      "metadata": {
        "id": "0V00IKB4jYjh",
        "colab": {
          "base_uri": "https://localhost:8080/"
        },
        "outputId": "a20f28e0-d73c-4a5f-cd93-0d26b29cbea7"
      },
      "execution_count": null,
      "outputs": [
        {
          "output_type": "execute_result",
          "data": {
            "text/plain": [
              "tensor([[0, 1, 2, 3, 4],\n",
              "        [5, 6, 7, 8, 9]])"
            ]
          },
          "metadata": {},
          "execution_count": 24
        }
      ]
    },
    {
      "cell_type": "code",
      "metadata": {
        "id": "rK5JSboHETjP",
        "colab": {
          "base_uri": "https://localhost:8080/"
        },
        "outputId": "b1bcac88-beea-4173-8ac0-c5f85c711591"
      },
      "source": [
        "a = torch.arange(10)\n",
        "a.view(2,5)   # reshape data into 2x5 torch.tensor"
      ],
      "execution_count": null,
      "outputs": [
        {
          "output_type": "execute_result",
          "data": {
            "text/plain": [
              "tensor([[0, 1, 2, 3, 4],\n",
              "        [5, 6, 7, 8, 9]])"
            ]
          },
          "metadata": {},
          "execution_count": 25
        }
      ]
    },
    {
      "cell_type": "markdown",
      "metadata": {
        "id": "BrqFpnM_DRDa"
      },
      "source": [
        "**Argmax** - returns the index of element with the maximum value in given data"
      ]
    },
    {
      "cell_type": "code",
      "metadata": {
        "id": "6CDgTCGzleaA",
        "colab": {
          "base_uri": "https://localhost:8080/"
        },
        "outputId": "63f4fa2d-1b3d-4468-f9b2-c46c49d70f0f"
      },
      "source": [
        "a = np.array([1, 2, 5, 3, 4])\n",
        "\n",
        "print(\"a=\", a)\n",
        "print(\"argmax(a) =\", np.argmax(a))    # Reminderr: the index number starts from 0 in Python"
      ],
      "execution_count": null,
      "outputs": [
        {
          "output_type": "stream",
          "name": "stdout",
          "text": [
            "a= [1 2 5 3 4]\n",
            "argmax(a) = 2\n"
          ]
        }
      ]
    },
    {
      "cell_type": "code",
      "metadata": {
        "id": "dTSKNliMDSMA",
        "colab": {
          "base_uri": "https://localhost:8080/"
        },
        "outputId": "d262cfb9-6f28-42b1-e195-033c9b97c453"
      },
      "source": [
        "a = torch.tensor([1, 2, 5, 3, 4])\n",
        "\n",
        "print(\"a=\", a)\n",
        "print(\"argmax(a) =\", torch.argmax(a))"
      ],
      "execution_count": null,
      "outputs": [
        {
          "output_type": "stream",
          "name": "stdout",
          "text": [
            "a= tensor([1, 2, 5, 3, 4])\n",
            "argmax(a) = tensor(2)\n"
          ]
        }
      ]
    },
    {
      "cell_type": "markdown",
      "metadata": {
        "id": "TACcs9ikbTav"
      },
      "source": [
        "**Practice**\n",
        "\n",
        "The code below draws a graph of $y=\\sin(x)$ using Numpy."
      ]
    },
    {
      "cell_type": "code",
      "source": [
        "import matplotlib.pyplot as plt  # matplotlib is a data visualization package\n",
        "\n",
        "x = np.arange(0, 10, 0.01) # create data of x\n",
        "y = np.sin(x)              # calculate y=sin(x)\n",
        "\n",
        "plt.plot(x, y)"
      ],
      "metadata": {
        "id": "sE9VBiE7kmrO",
        "colab": {
          "base_uri": "https://localhost:8080/",
          "height": 448
        },
        "outputId": "ecda1ded-9223-41cd-e980-7817f6ff8666"
      },
      "execution_count": null,
      "outputs": [
        {
          "output_type": "execute_result",
          "data": {
            "text/plain": [
              "[<matplotlib.lines.Line2D at 0x7b8028c80d00>]"
            ]
          },
          "metadata": {},
          "execution_count": 29
        },
        {
          "output_type": "display_data",
          "data": {
            "text/plain": [
              "<Figure size 640x480 with 1 Axes>"
            ],
            "image/png": "[encoded data removed]"
          },
          "metadata": {}
        }
      ]
    },
    {
      "cell_type": "markdown",
      "source": [
        "Now draw the same graph by using PyTorch and Matplotlib, but not Numpy."
      ],
      "metadata": {
        "id": "t0ku-6OI7Jw_"
      }
    },
    {
      "cell_type": "code",
      "metadata": {
        "id": "DtmtbEPGevub"
      },
      "source": [
        "# WRITE YOUR CODE HERE\n"
      ],
      "execution_count": null,
      "outputs": []
    },
    {
      "cell_type": "markdown",
      "metadata": {
        "id": "cjMYEqSyEmVe"
      },
      "source": [
        "## AutoGrad\n",
        "One of the most important features of PyTorch is its automatic differentiation engine, `torch.autograd`. PyTorch performs calculations using computation graphs, enabling us to access the gradients of outputs with respect to the inputs. This is crucial for training neural networks.\n",
        "\n",
        "Let's examine a simple example: $y=2x+5$, where $x$ is the input and $y$ is the output.\n",
        "\n",
        "To enable the `torch.autograd` functionality, we need to set the parameters of the input `x` with `dtype=torch.float32` and `requires_grad=True`."
      ]
    },
    {
      "cell_type": "code",
      "metadata": {
        "id": "3p0UxGo6jjYf",
        "colab": {
          "base_uri": "https://localhost:8080/"
        },
        "outputId": "92c95e1a-acb1-4ed3-ac03-b7805360c61c"
      },
      "source": [
        "x = torch.tensor(3.0,\n",
        "                 dtype=torch.float32, # set data type to float32\n",
        "                 requires_grad=True)  # enable gradient calculations\n",
        "print(\"x =\", x)\n",
        "y = 2*x + 5\n",
        "print(\"y= 2x + 5 =\", y)"
      ],
      "execution_count": null,
      "outputs": [
        {
          "output_type": "stream",
          "name": "stdout",
          "text": [
            "x = tensor(3., requires_grad=True)\n",
            "y= 2x + 5 = tensor(11., grad_fn=<AddBackward0>)\n"
          ]
        }
      ]
    },
    {
      "cell_type": "markdown",
      "metadata": {
        "id": "VyW7S_k5Zk0A"
      },
      "source": [
        "By the way `y` is a `torch.tensor` object. If you only need the numerical value, you can use `y.item()`."
      ]
    },
    {
      "cell_type": "code",
      "metadata": {
        "id": "uTpwq-vBZibA",
        "colab": {
          "base_uri": "https://localhost:8080/"
        },
        "outputId": "d006a128-30e9-4768-c081-d8d5f99babf8"
      },
      "source": [
        "y.item()"
      ],
      "execution_count": null,
      "outputs": [
        {
          "output_type": "execute_result",
          "data": {
            "text/plain": [
              "11.0"
            ]
          },
          "metadata": {},
          "execution_count": 33
        }
      ]
    },
    {
      "cell_type": "markdown",
      "metadata": {
        "id": "4GPBCOJUNeX4"
      },
      "source": [
        "The gradient of `y` is calculated by `y.backward()`"
      ]
    },
    {
      "cell_type": "code",
      "metadata": {
        "id": "6aV0uFOBMxv1"
      },
      "source": [
        "y.backward()"
      ],
      "execution_count": null,
      "outputs": []
    },
    {
      "cell_type": "markdown",
      "metadata": {
        "id": "dorxjIugOLJd"
      },
      "source": [
        "Now the gradient of `y` with respect to `x`, denoted as $dy/dx$, can be accessed by `x.grad`."
      ]
    },
    {
      "cell_type": "code",
      "metadata": {
        "id": "OALTZ7JJNX4l",
        "colab": {
          "base_uri": "https://localhost:8080/"
        },
        "outputId": "ee265d4c-851e-4e6a-bb80-e4242efc7f2f"
      },
      "source": [
        "print(\"dy/dx =\", x.grad)"
      ],
      "execution_count": null,
      "outputs": [
        {
          "output_type": "stream",
          "name": "stdout",
          "text": [
            "dy/dx = tensor(2.)\n"
          ]
        }
      ]
    },
    {
      "cell_type": "markdown",
      "metadata": {
        "id": "ah3ijRIWkcRW"
      },
      "source": [
        "**Practice**\n",
        "\n",
        "\n",
        "1.   Create a new `torch.tensor` $x=5.0$\n",
        "2.   Do calculation of $y=x^2 + 3x + 1$\n",
        "3.   Determine the gradient of $dy/dx$. The answer is 13. ($dy/dx=2x+3=2\\cdot5+3=13$)"
      ]
    },
    {
      "cell_type": "code",
      "metadata": {
        "id": "frllAWONlULP"
      },
      "source": [
        "# WRITE YOUR CODE HERE\n"
      ],
      "execution_count": null,
      "outputs": []
    },
    {
      "cell_type": "markdown",
      "metadata": {
        "id": "BioIAR-F3oDN"
      },
      "source": [
        "**Notes**\n",
        "\n",
        "In deep learning, gradient values are crucial for optimizing the parameters of neural network models using a method called stochastic gradient descent (SGD). As we've seen earlier, PyTorch automatically calculates gradients for `torch.tensor` objects. This is one of the reasons why PyTorch is widely used for deep learning programming.\n",
        "\n",
        "If you are interested in understanding how SGD works for optimizing parameters, here is an example.\n",
        "\n",
        "https://colab.research.google.com/github/naoya1110/al_robotics_lab_2023_hands_on/blob/main/Week03_supplemental_PyTorch_Simple_Linear_Regression_Example.ipynb\n"
      ]
    }
  ]
}