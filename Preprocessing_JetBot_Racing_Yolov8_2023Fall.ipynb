{
  "nbformat": 4,
  "nbformat_minor": 0,
  "metadata": {
    "colab": {
      "provenance": [],
      "gpuType": "T4",
      "include_colab_link": true
    },
    "kernelspec": {
      "name": "python3",
      "display_name": "Python 3"
    },
    "accelerator": "GPU"
  },
  "cells": [
    {
      "cell_type": "markdown",
      "metadata": {
        "id": "view-in-github",
        "colab_type": "text"
      },
      "source": [
        "<a href=\"https://colab.research.google.com/github/naoya1110/ai_robotics_lab_2023_hands_on/blob/main/Preprocessing_JetBot_Racing_Yolov8_2023Fall.ipynb\" target=\"_parent\"><img src=\"https://colab.research.google.com/assets/colab-badge.svg\" alt=\"Open In Colab\"/></a>"
      ]
    },
    {
      "cell_type": "markdown",
      "metadata": {
        "id": "ZRFfu-xJ83bY"
      },
      "source": [
        "# Preprocessing JetBot Racing Video with YOLOv8"
      ]
    },
    {
      "cell_type": "markdown",
      "metadata": {
        "id": "bpRhhH4JHKMh"
      },
      "source": [
        "## Introduction\n",
        "\n",
        "This notebook processes a JetBot racing video using an object detection model YOLOv8, and generates a tracking video (MP4) and a table data (CSV).\n",
        "\n",
        "YOLOv8 https://github.com/ultralytics/ultralytics"
      ]
    },
    {
      "cell_type": "markdown",
      "source": [
        "## Upload Video to Google Drive\n",
        "Take a video of your JetBot driving the racetrack for 3 laps. Then upload it to your Google Drive."
      ],
      "metadata": {
        "id": "MOhu-kygDUR4"
      }
    },
    {
      "cell_type": "markdown",
      "source": [
        "## GPU\n",
        "Make sure you have access to a GPU."
      ],
      "metadata": {
        "id": "ig_2i0TrXbs3"
      }
    },
    {
      "cell_type": "markdown",
      "source": [
        "## Your Team ID\n",
        "Please set your team ID."
      ],
      "metadata": {
        "id": "8u0rBXSoY2tc"
      }
    },
    {
      "cell_type": "code",
      "source": [
        "team_id = 0\n",
        "print(f\"Your team ID is {team_id}.\")"
      ],
      "metadata": {
        "id": "lyIQIBPk3Db5"
      },
      "execution_count": null,
      "outputs": []
    },
    {
      "cell_type": "markdown",
      "source": [
        "## Setup YOLO v8"
      ],
      "metadata": {
        "id": "KAOBwO9Mf_lV"
      }
    },
    {
      "cell_type": "code",
      "source": [
        "%pip install ultralytics dill\n",
        "import ultralytics\n",
        "ultralytics.checks()"
      ],
      "metadata": {
        "id": "-Q6EQCe_f8hd"
      },
      "execution_count": null,
      "outputs": []
    },
    {
      "cell_type": "markdown",
      "source": [
        "Download the pretrained model for the JetBot detection."
      ],
      "metadata": {
        "id": "WlKrJSFoS212"
      }
    },
    {
      "cell_type": "code",
      "source": [
        "import gdown\n",
        "gdown.download('https://drive.google.com/uc?id=1dDPhi_chE4PCiyTIayPjAY07x4-jRxAv', quiet = False)"
      ],
      "metadata": {
        "id": "rhFWFkCS4tz8"
      },
      "execution_count": null,
      "outputs": []
    },
    {
      "cell_type": "markdown",
      "source": [
        "Load the pretrained model. If this cell raise an error, run it again."
      ],
      "metadata": {
        "id": "knu0SfXHTBW_"
      }
    },
    {
      "cell_type": "code",
      "source": [
        "# Load a model\n",
        "from ultralytics import YOLO\n",
        "model = YOLO(\"yolov8s_jetbot_detection_best_20231201.pt\")  # load a pretrained model (recommended for training)"
      ],
      "metadata": {
        "id": "ihnaRwiagYnN"
      },
      "execution_count": null,
      "outputs": []
    },
    {
      "cell_type": "markdown",
      "metadata": {
        "id": "AX_PTr1vRN9m"
      },
      "source": [
        "## Import Python Packages"
      ]
    },
    {
      "cell_type": "code",
      "metadata": {
        "id": "D-nUc2bYNd9Q"
      },
      "source": [
        "import os\n",
        "import cv2\n",
        "import numpy as np\n",
        "import pandas as pd\n",
        "import matplotlib.pyplot as plt\n",
        "from tqdm.notebook import tqdm"
      ],
      "execution_count": null,
      "outputs": []
    },
    {
      "cell_type": "markdown",
      "metadata": {
        "id": "tsTkcuKq1vvZ"
      },
      "source": [
        "## Prepare ArUco Markers\n",
        "We use ArUco markers to calibrate the JetBot position in the racetrack."
      ]
    },
    {
      "cell_type": "code",
      "metadata": {
        "id": "OjmVm_O-1tCy"
      },
      "source": [
        "aruco = cv2.aruco\n",
        "dictionary = aruco.getPredefinedDictionary(aruco.DICT_4X4_50)\n",
        "\n",
        "def update_paper_corners(ar_ids, ar_corners, paper_corners):\n",
        "    if ar_ids is not None:\n",
        "        for i in range(4):\n",
        "            if i in ar_ids:\n",
        "                j = np.where(ar_ids.flatten()==i)[0][0]\n",
        "                paper_corners[i] = tuple(ar_corners[j][0][i].astype(\"int\"))\n",
        "    return paper_corners\n",
        "\n",
        "\n",
        "def update_checker_corners(ar_ids, ar_corners, checker_corners):\n",
        "    if ar_ids is not None:\n",
        "        # update tl and bl coordinates if #4 is detected\n",
        "        if 4 in ar_ids:\n",
        "            idx4 = np.where(ar_ids.flatten()==4)[0][0]\n",
        "            checker_corners[0] = tuple(ar_corners[idx4][0][0].astype(\"int\"))\n",
        "            checker_corners[3] = tuple(ar_corners[idx4][0][3].astype(\"int\"))\n",
        "\n",
        "        # update tl and bl coordinates if #4 is detected\n",
        "        if 5 in ar_ids:\n",
        "            idx5 = np.where(ar_ids.flatten()==5)[0][0]\n",
        "            checker_corners[1] = tuple(ar_corners[idx5][0][1].astype(\"int\"))\n",
        "            checker_corners[2] = tuple(ar_corners[idx5][0][2].astype(\"int\"))\n",
        "\n",
        "    return checker_corners"
      ],
      "execution_count": null,
      "outputs": []
    },
    {
      "cell_type": "markdown",
      "metadata": {
        "id": "5q93JAI9XVth"
      },
      "source": [
        "## Input Video\n"
      ]
    },
    {
      "cell_type": "markdown",
      "source": [
        "Mount your google drive."
      ],
      "metadata": {
        "id": "FFIa3corTunB"
      }
    },
    {
      "cell_type": "code",
      "source": [
        "from google.colab import drive\n",
        "drive.mount('/content/drive')"
      ],
      "metadata": {
        "id": "LaJToS1_XMER"
      },
      "execution_count": null,
      "outputs": []
    },
    {
      "cell_type": "markdown",
      "source": [
        "Set the filepath of your input video data."
      ],
      "metadata": {
        "id": "9zKRnl0XT0QH"
      }
    },
    {
      "cell_type": "code",
      "metadata": {
        "id": "7c8AiSxnO2Pb"
      },
      "source": [
        "input_video_path = \"/content/drive/MyDrive/jetbot_videos/jetbot_cls_sample_2023_1.mp4\"\n",
        "\n",
        "if os.path.exists(input_video_path):\n",
        "    dirname, filename = os.path.split(input_video_path)\n",
        "    filename_body, ext = os.path.splitext(filename)\n",
        "    output_video_path = os.path.join(dirname, f\"{team_id}_{filename_body}_out.mp4\")\n",
        "    output_data_path = os.path.join(dirname, f\"{team_id}_{filename_body}_data.csv\")\n",
        "    print(\"Input Video Path:\", input_video_path)\n",
        "    print(\"Output Video Path:\", output_video_path)\n",
        "    print(\"Output Data Path:\", output_data_path)\n",
        "else:\n",
        "    print(f\"No such file {input_video_path}\")"
      ],
      "execution_count": null,
      "outputs": []
    },
    {
      "cell_type": "markdown",
      "source": [
        "## Perform Tracking\n",
        "Now we can perform JetBot tracking."
      ],
      "metadata": {
        "id": "BXNfA-vL5zYo"
      }
    },
    {
      "cell_type": "code",
      "metadata": {
        "id": "2SosjT3za_yg"
      },
      "source": [
        "TOTAL_LAPS = 3\n",
        "\n",
        "print(\"Input Video:\", input_video_path)\n",
        "cap = cv2.VideoCapture(input_video_path)\n",
        "frame_width = int(cap.get(cv2.CAP_PROP_FRAME_WIDTH))\n",
        "frame_height = int(cap.get(cv2.CAP_PROP_FRAME_HEIGHT))\n",
        "frame_rate = int(cap.get((cv2.CAP_PROP_FPS)))\n",
        "total_frames = int(cap.get(cv2.CAP_PROP_FRAME_COUNT))\n",
        "\n",
        "print(\"Frame Width:\", frame_width)\n",
        "print(\"Frame Height:\", frame_height)\n",
        "print(\"Frame Rate:\", frame_rate)\n",
        "print(\"Total Frames:\", total_frames)\n",
        "\n",
        "checker_corners = [(0, 0), (0, 1), (1, 1), (1, 0)]\n",
        "paper_corners =  [(0, 0), (0, 1), (1, 1), (1, 0)]\n",
        "\n",
        "GREEN = (0, 255, 0)\n",
        "MAGENTA = (255, 0, 255)\n",
        "CYAN = (255, 255, 0)\n",
        "\n",
        "font = cv2.FONT_HERSHEY_SIMPLEX\n",
        "#fourcc = cv2.VideoWriter_fourcc(*\"DIVX\")\n",
        "fourcc = cv2.VideoWriter_fourcc(*'mp4v')\n",
        "writer = cv2.VideoWriter(output_video_path, fourcc, frame_rate, (frame_width, frame_height))\n",
        "\n",
        "count = 0\n",
        "readable = 0\n",
        "measure_time_flag = False\n",
        "old_measure_time_flag = False\n",
        "\n",
        "jetbot_states = [False]*3\n",
        "new_jetbot_state = \"not_in_checker\"\n",
        "old_jetbot_state = \"not_in_checker\"\n",
        "current_lap = 0\n",
        "lap_times = []\n",
        "elapsed_time = 0\n",
        "elapsed_time2 = 0\n",
        "font = cv2.FONT_HERSHEY_SIMPLEX\n",
        "\n",
        "conf = 0\n",
        "\n",
        "output_data = []\n",
        "\n",
        "while cap.isOpened():\n",
        "\n",
        "    count += 1\n",
        "    ret, frame1 = cap.read()\n",
        "    if not ret:\n",
        "        break\n",
        "\n",
        "    else:\n",
        "        timestamp = cap.get(cv2.CAP_PROP_POS_MSEC)/1000\n",
        "        results = model(frame1, save=False, device=0, verbose=False)\n",
        "        detections = results[0].boxes.data\n",
        "\n",
        "        if len(detections) == 1:\n",
        "            left, top, right, bottom, conf, clasa_id = detections.to(\"cpu\").numpy()[0]\n",
        "            left, top, right, bottom = int(left), int(top), int(right), int(bottom)\n",
        "\n",
        "        else:\n",
        "            left, top, right, bottom, conf = -1, -1, -1, -1, -1\n",
        "\n",
        "        jetbot_center = (int((right+left)/2), int((top+bottom)/2))\n",
        "\n",
        "        frame2 = np.zeros(frame1.shape, dtype=np.uint8)\n",
        "        ar_corners, ar_ids, _ = aruco.detectMarkers(frame1, dictionary)\n",
        "\n",
        "        # update & draw paper corners\n",
        "        paper_corners = update_paper_corners(ar_ids, ar_corners, paper_corners)\n",
        "        cv2.polylines(frame1, pts=np.array([paper_corners]), isClosed=True, color=(51, 212, 255), thickness=2)\n",
        "        # update & draw checker corners\n",
        "        checker_corners = update_checker_corners(ar_ids, ar_corners, checker_corners)\n",
        "        cv2.polylines(frame1, pts=np.array([checker_corners]), isClosed=True, color=GREEN, thickness=2)\n",
        "        cv2.fillPoly(frame2, pts=np.array([checker_corners]), color=GREEN)\n",
        "\n",
        "        # check if jetbot is in the checker area\n",
        "        jetbot_position_color = frame2[jetbot_center[1], jetbot_center[0]]\n",
        "        if np.array_equal(jetbot_position_color, np.array(GREEN)):\n",
        "            is_in_checker = True\n",
        "            jetbot_color = GREEN\n",
        "        else:\n",
        "            is_in_checker = False\n",
        "            jetbot_color = MAGENTA\n",
        "\n",
        "        # draw on jetbot\n",
        "        cv2.rectangle(frame1, (left, top), (right, bottom), jetbot_color, 2)\n",
        "        cv2.putText(frame1, f\"{float(conf):.0%}\", (left, top - 5),cv2.FONT_HERSHEY_SIMPLEX, 0.6, jetbot_color, 2)\n",
        "        cv2.circle(frame1, jetbot_center, 10, jetbot_color, thickness=-1)\n",
        "\n",
        "        jetbot_states.append(is_in_checker)\n",
        "        jetbot_states.pop(0)\n",
        "        if sum(jetbot_states) == 3:\n",
        "            new_jetbot_state = \"in_checker\"\n",
        "        elif sum(jetbot_states) == 0:\n",
        "            new_jetbot_state = \"not_in_checker\"\n",
        "\n",
        "        if old_jetbot_state == \"not_in_checker\" and new_jetbot_state == \"in_checker\":\n",
        "            measure_time_flag = True\n",
        "            current_lap += 1\n",
        "            if current_lap <= TOTAL_LAPS+1:\n",
        "                lap_times.append(np.round(elapsed_time,3))\n",
        "\n",
        "            if current_lap > TOTAL_LAPS:\n",
        "                measure_time_flag = False\n",
        "                #laps = TOTAL_LAPS\n",
        "\n",
        "        # when JetBot started\n",
        "        if measure_time_flag == True:\n",
        "            if old_measure_time_flag == False:\n",
        "                t_start = timestamp\n",
        "\n",
        "            elapsed_time = timestamp - t_start\n",
        "            output_data.append(\n",
        "                np.concatenate(\n",
        "                    (np.array([elapsed_time]),\n",
        "                    np.array([current_lap]),\n",
        "                    np.array(jetbot_center).flatten(),\n",
        "                    np.array(paper_corners).flatten(),\n",
        "                    np.array(checker_corners).flatten()))\n",
        "            )\n",
        "\n",
        "        # when JetBot finished\n",
        "        if (measure_time_flag == False) & (old_measure_time_flag == True):\n",
        "            t_finish = timestamp\n",
        "            elapsed_time = timestamp - t_start\n",
        "            output_data.append(\n",
        "                np.concatenate(\n",
        "                    (np.array([elapsed_time]),\n",
        "                    np.array([current_lap]),\n",
        "                    np.array(jetbot_center).flatten(),\n",
        "                    np.array(paper_corners).flatten(),\n",
        "                    np.array(checker_corners).flatten()))\n",
        "            )\n",
        "\n",
        "        text = f\"TIME {elapsed_time:.2f}\"\n",
        "        cv2.putText(frame1, text, (20, 60), font, 1.5, CYAN, 2, cv2.LINE_AA)\n",
        "\n",
        "        if len(lap_times) > 1:\n",
        "            for i in range(len(lap_times)-1):\n",
        "                cv2.putText(frame1, f\"LAP{i+1} {lap_times[i+1]-lap_times[i]:.2f}\", (20, 60*(i+2)), font, 1.5, CYAN, 2, cv2.LINE_AA)\n",
        "\n",
        "        old_jetbot_state = new_jetbot_state\n",
        "        old_measure_time_flag = measure_time_flag\n",
        "\n",
        "        print(f\"\\rProgress {count}/{total_frames} JetBot:(x, y)={jetbot_center} conf={conf:.1%}, {text}, Current Lap {current_lap}, {lap_times}\", end=\"\")\n",
        "        writer.write(frame1)\n",
        "\n",
        "writer.release()\n",
        "cap.release()\n",
        "\n",
        "# save output data\n",
        "output_data = np.array(output_data)\n",
        "output_data_df = pd.DataFrame(output_data)\n",
        "output_data_df.columns = [\"time\", \"lap\", \"jb_x\", \"jb_y\",\n",
        "                          \"pa_tl_x\", \"pa_tl_y\", \"pa_tr_x\", \"pa_tr_y\", \"pa_br_x\", \"pa_br_y\", \"pa_bl_x\", \"pa_bl_y\",\n",
        "                          \"ch_tl_x\", \"ch_tl_y\", \"ch_tr_x\", \"ch_tr_y\", \"ch_br_x\", \"ch_br_y\", \"ch_bl_x\", \"ch_bl_y\"]\n",
        "output_data_df.to_csv(output_data_path, index=False)\n",
        "# ----------------\n",
        "\n",
        "print(\"\\nFinished\")\n",
        "print(\"Output Video :\", output_video_path)\n",
        "print(\"Output Data:\", output_data_path)"
      ],
      "execution_count": null,
      "outputs": []
    },
    {
      "cell_type": "markdown",
      "source": [
        "## Submission\n",
        "Download your `{team_id}_{something}_data.csv` file and submit it from here.\n",
        "\n",
        "### Classification Model Competition\n",
        "https://forms.gle/QFqYqr3h4amv5X166\n",
        "\n",
        "### Regression Model Competition\n",
        "https://forms.gle/XFfHbtqzn6FVZAABA\n"
      ],
      "metadata": {
        "id": "095hmWjI4NMr"
      }
    }
  ]
}